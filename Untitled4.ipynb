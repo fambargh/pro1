{
  "nbformat": 4,
  "nbformat_minor": 0,
  "metadata": {
    "colab": {
      "name": "Untitled4.ipynb",
      "version": "0.3.2",
      "provenance": [],
      "collapsed_sections": [],
      "include_colab_link": true
    },
    "kernelspec": {
      "name": "python3",
      "display_name": "Python 3"
    },
    "accelerator": "GPU"
  },
  "cells": [
    {
      "cell_type": "markdown",
      "metadata": {
        "id": "view-in-github",
        "colab_type": "text"
      },
      "source": [
        "<a href=\"https://colab.research.google.com/github/fambargh/pro1/blob/master/Untitled4.ipynb\" target=\"_parent\"><img src=\"https://colab.research.google.com/assets/colab-badge.svg\" alt=\"Open In Colab\"/></a>"
      ]
    },
    {
      "cell_type": "code",
      "metadata": {
        "id": "x_z3YblPuYu4",
        "colab_type": "code",
        "outputId": "2ceddd50-933d-4c92-ef75-1dd6f1994feb",
        "colab": {
          "base_uri": "https://localhost:8080/",
          "height": 121
        }
      },
      "source": [
        "from google.colab import drive\n",
        "drive.mount('/content/drive')"
      ],
      "execution_count": 4,
      "outputs": [
        {
          "output_type": "stream",
          "text": [
            "Go to this URL in a browser: https://accounts.google.com/o/oauth2/auth?client_id=947318989803-6bn6qk8qdgf4n4g3pfee6491hc0brc4i.apps.googleusercontent.com&redirect_uri=urn%3Aietf%3Awg%3Aoauth%3A2.0%3Aoob&scope=email%20https%3A%2F%2Fwww.googleapis.com%2Fauth%2Fdocs.test%20https%3A%2F%2Fwww.googleapis.com%2Fauth%2Fdrive%20https%3A%2F%2Fwww.googleapis.com%2Fauth%2Fdrive.photos.readonly%20https%3A%2F%2Fwww.googleapis.com%2Fauth%2Fpeopleapi.readonly&response_type=code\n",
            "\n",
            "Enter your authorization code:\n",
            "··········\n",
            "Mounted at /content/drive\n"
          ],
          "name": "stdout"
        }
      ]
    },
    {
      "cell_type": "code",
      "metadata": {
        "id": "dBPjOMHv0huZ",
        "colab_type": "code",
        "colab": {}
      },
      "source": [
        "import os"
      ],
      "execution_count": 0,
      "outputs": []
    },
    {
      "cell_type": "code",
      "metadata": {
        "id": "BN3KjH940k3g",
        "colab_type": "code",
        "colab": {}
      },
      "source": [
        "m='/content/drive/My Drive/me'"
      ],
      "execution_count": 0,
      "outputs": []
    },
    {
      "cell_type": "code",
      "metadata": {
        "id": "Jg-DLqjW0um1",
        "colab_type": "code",
        "outputId": "7cf0045c-ad28-446f-bb77-df63b829d9d1",
        "colab": {
          "base_uri": "https://localhost:8080/",
          "height": 34
        }
      },
      "source": [
        "train_dir=os.path.join(m,'train')\n",
        "validation_dir=os.path.join(m,'validation')\n",
        "test_dir=os.path.join(m,'test')\n",
        "print(train_dir)"
      ],
      "execution_count": 7,
      "outputs": [
        {
          "output_type": "stream",
          "text": [
            "/content/drive/My Drive/me/train\n"
          ],
          "name": "stdout"
        }
      ]
    },
    {
      "cell_type": "code",
      "metadata": {
        "id": "pnh9vWX5vZvI",
        "colab_type": "code",
        "outputId": "b8c3ef7a-3ebd-4349-9859-fc30d0259e77",
        "colab": {
          "base_uri": "https://localhost:8080/",
          "height": 67
        }
      },
      "source": [
        "train_data_dir = '/content/drive/My Drive/me/train'  \n",
        "validation_data_dir = '/content/drive/My Drive/me/validation'  \n",
        "test_data_dir = '/content/drive/My Drive/me/test'\n",
        "print(train_data_dir)\n",
        "print(len(validation_data_dir))\n",
        "print(len(test_data_dir))"
      ],
      "execution_count": 54,
      "outputs": [
        {
          "output_type": "stream",
          "text": [
            "/content/drive/My Drive/me/train\n",
            "37\n",
            "31\n"
          ],
          "name": "stdout"
        }
      ]
    },
    {
      "cell_type": "code",
      "metadata": {
        "id": "Z2X4KMQhvtPA",
        "colab_type": "code",
        "colab": {}
      },
      "source": [
        "from keras.preprocessing.image import ImageDataGenerator"
      ],
      "execution_count": 0,
      "outputs": []
    },
    {
      "cell_type": "code",
      "metadata": {
        "id": "Q9Xk6w6-vy9M",
        "colab_type": "code",
        "colab": {}
      },
      "source": [
        "batch_size=20\n",
        "train_datagen =  ImageDataGenerator(\n",
        "      rescale=1./255,\n",
        "      rotation_range=40,\n",
        "      width_shift_range=0.2,\n",
        "      height_shift_range=0.2,\n",
        "      zoom_range=0.2,\n",
        "      horizontal_flip=True,\n",
        "      vertical_flip=True\n",
        "    )"
      ],
      "execution_count": 0,
      "outputs": []
    },
    {
      "cell_type": "code",
      "metadata": {
        "id": "ryDDOiw9v7ce",
        "colab_type": "code",
        "colab": {}
      },
      "source": [
        "test_datagen=ImageDataGenerator(rescale=1./255)\n"
      ],
      "execution_count": 0,
      "outputs": []
    },
    {
      "cell_type": "code",
      "metadata": {
        "id": "cNLvbtZbwMCT",
        "colab_type": "code",
        "outputId": "33c40496-b026-48b6-ede7-5d2ddb21b0b0",
        "colab": {
          "base_uri": "https://localhost:8080/",
          "height": 50
        }
      },
      "source": [
        "train_generator = train_datagen.flow_from_directory(train_data_dir, \n",
        "                                                    target_size=(150, 150), \n",
        "                                                    batch_size=batch_size)\n",
        "validation_generator = test_datagen.flow_from_directory(validation_data_dir, \n",
        "                                                    target_size=(150, 150), \n",
        "                                                    batch_size=batch_size)"
      ],
      "execution_count": 59,
      "outputs": [
        {
          "output_type": "stream",
          "text": [
            "Found 298 images belonging to 2 classes.\n",
            "Found 74 images belonging to 2 classes.\n"
          ],
          "name": "stdout"
        }
      ]
    },
    {
      "cell_type": "code",
      "metadata": {
        "id": "AQUpTCEm1GiK",
        "colab_type": "code",
        "colab": {}
      },
      "source": [
        "from keras.applications import VGG16\n",
        "HEIGHT = 150\n",
        "WIDTH = 150\n",
        "base_model = VGG16(weights='imagenet', \n",
        "                      include_top=False, \n",
        "                      input_shape=(HEIGHT, WIDTH, 3))"
      ],
      "execution_count": 0,
      "outputs": []
    },
    {
      "cell_type": "code",
      "metadata": {
        "id": "6xWbhUUI1QqK",
        "colab_type": "code",
        "colab": {}
      },
      "source": [
        "import numpy as np\n"
      ],
      "execution_count": 0,
      "outputs": []
    },
    {
      "cell_type": "code",
      "metadata": {
        "id": "r4xY8yxa1VaO",
        "colab_type": "code",
        "colab": {}
      },
      "source": [
        "from keras.layers import Dense, Activation, Flatten, Dropout,BatchNormalization\n",
        "from keras.models import Sequential, Model"
      ],
      "execution_count": 0,
      "outputs": []
    },
    {
      "cell_type": "code",
      "metadata": {
        "id": "Vhhk3WFlKlUH",
        "colab_type": "code",
        "colab": {}
      },
      "source": [
        "def dense_block(units, activation='relu', name='fc1'):\n",
        "\n",
        "    def layer_wrapper(inp):\n",
        "        x = Dense(units, name=name)(inp)\n",
        "        x = BatchNormalization(name='{}_bn'.format(name))(x)\n",
        "        x = Activation(activation, name='{}_act'.format(name))(x)\n",
        "        return x\n",
        "\n",
        "    return layer_wrapper"
      ],
      "execution_count": 0,
      "outputs": []
    },
    {
      "cell_type": "code",
      "metadata": {
        "id": "-eYXKGc61aL9",
        "colab_type": "code",
        "colab": {}
      },
      "source": [
        "def build_finetune_model(base_model, fc_layers, num_classes):\n",
        "    for layer in base_model.layers:\n",
        "        layer.trainable = False\n",
        "    x = base_model.output\n",
        "    x = Flatten()(x)\n",
        "    #for fc in fc_layers:\n",
        "        # New FC layer, random init\n",
        "    x = dense_block(512, activation='relu', name='fc1')(x)\n",
        "       # x = Dropout(dropout)(x)\n",
        "    x = dense_block(512, activation='relu', name='fc2')(x)\n",
        "    # New softmax layer\n",
        "    predictions = Dense(num_classes, activation='softmax')(x) \n",
        "    \n",
        "    finetune_model = Model(inputs=base_model.input, outputs=predictions)\n",
        "\n",
        "    return finetune_model"
      ],
      "execution_count": 0,
      "outputs": []
    },
    {
      "cell_type": "code",
      "metadata": {
        "id": "jEQjqM-e1fqc",
        "colab_type": "code",
        "colab": {}
      },
      "source": [
        "class_list = [\"healthy\", \"glaucoma\"]\n",
        "FC_LAYERS = [1024, 1024]\n",
        "#dropout = 0.5\n",
        "finetune_model = build_finetune_model(base_model, \n",
        "                                      fc_layers=FC_LAYERS, \n",
        "                                      num_classes=len(class_list))"
      ],
      "execution_count": 0,
      "outputs": []
    },
    {
      "cell_type": "code",
      "metadata": {
        "id": "_KZCCO5z1njc",
        "colab_type": "code",
        "outputId": "e40e8d50-6733-497e-ae6e-304d3675797f",
        "colab": {
          "base_uri": "https://localhost:8080/",
          "height": 370
        }
      },
      "source": [
        "from keras.optimizers import SGD, Adam\n",
        "NUM_EPOCHS = 10\n",
        "BATCH_SIZE = 8\n",
        "num_train_images = 10000\n",
        "adam = Adam(lr=0.001)\n",
        "finetune_model.compile(adam, loss='categorical_crossentropy', metrics=['accuracy'])\n",
        "filepath=\"./checkpoints/\" + \"VGG16\" + \"_model_weights.h5\"\n",
        "#checkpoint = ModelCheckpoint(filepath, monitor=[\"acc\"], verbose=1, mode='max')\n",
        "#callbacks_list = [checkpoint]\n",
        "#history = finetune_model.fit_generator(train_generator, epochs=NUM_EPOCHS, workers=8, \n",
        "                                       #steps_per_epoch=num_train_images // BATCH_SIZE, \n",
        "                                       #shuffle=True)\n",
        "history=finetune_model.fit_generator(train_generator, steps_per_epoch=100,epochs=10, \n",
        "                                       validation_data=validation_generator,\n",
        "                                       validation_steps=50)"
      ],
      "execution_count": 66,
      "outputs": [
        {
          "output_type": "stream",
          "text": [
            "Epoch 1/10\n",
            " 60/100 [=================>............] - ETA: 12s - loss: 0.6346 - acc: 0.7131"
          ],
          "name": "stdout"
        },
        {
          "output_type": "error",
          "ename": "KeyboardInterrupt",
          "evalue": "ignored",
          "traceback": [
            "\u001b[0;31m---------------------------------------------------------------------------\u001b[0m",
            "\u001b[0;31mKeyboardInterrupt\u001b[0m                         Traceback (most recent call last)",
            "\u001b[0;32m<ipython-input-66-3730caeb48fa>\u001b[0m in \u001b[0;36m<module>\u001b[0;34m()\u001b[0m\n\u001b[1;32m     13\u001b[0m history=finetune_model.fit_generator(train_generator, steps_per_epoch=100,epochs=10, \n\u001b[1;32m     14\u001b[0m                                        \u001b[0mvalidation_data\u001b[0m\u001b[0;34m=\u001b[0m\u001b[0mvalidation_generator\u001b[0m\u001b[0;34m,\u001b[0m\u001b[0;34m\u001b[0m\u001b[0;34m\u001b[0m\u001b[0m\n\u001b[0;32m---> 15\u001b[0;31m                                        validation_steps=50)\n\u001b[0m",
            "\u001b[0;32m/usr/local/lib/python3.6/dist-packages/keras/legacy/interfaces.py\u001b[0m in \u001b[0;36mwrapper\u001b[0;34m(*args, **kwargs)\u001b[0m\n\u001b[1;32m     89\u001b[0m                 warnings.warn('Update your `' + object_name + '` call to the ' +\n\u001b[1;32m     90\u001b[0m                               'Keras 2 API: ' + signature, stacklevel=2)\n\u001b[0;32m---> 91\u001b[0;31m             \u001b[0;32mreturn\u001b[0m \u001b[0mfunc\u001b[0m\u001b[0;34m(\u001b[0m\u001b[0;34m*\u001b[0m\u001b[0margs\u001b[0m\u001b[0;34m,\u001b[0m \u001b[0;34m**\u001b[0m\u001b[0mkwargs\u001b[0m\u001b[0;34m)\u001b[0m\u001b[0;34m\u001b[0m\u001b[0;34m\u001b[0m\u001b[0m\n\u001b[0m\u001b[1;32m     92\u001b[0m         \u001b[0mwrapper\u001b[0m\u001b[0;34m.\u001b[0m\u001b[0m_original_function\u001b[0m \u001b[0;34m=\u001b[0m \u001b[0mfunc\u001b[0m\u001b[0;34m\u001b[0m\u001b[0;34m\u001b[0m\u001b[0m\n\u001b[1;32m     93\u001b[0m         \u001b[0;32mreturn\u001b[0m \u001b[0mwrapper\u001b[0m\u001b[0;34m\u001b[0m\u001b[0;34m\u001b[0m\u001b[0m\n",
            "\u001b[0;32m/usr/local/lib/python3.6/dist-packages/keras/engine/training.py\u001b[0m in \u001b[0;36mfit_generator\u001b[0;34m(self, generator, steps_per_epoch, epochs, verbose, callbacks, validation_data, validation_steps, class_weight, max_queue_size, workers, use_multiprocessing, shuffle, initial_epoch)\u001b[0m\n\u001b[1;32m   1416\u001b[0m             \u001b[0muse_multiprocessing\u001b[0m\u001b[0;34m=\u001b[0m\u001b[0muse_multiprocessing\u001b[0m\u001b[0;34m,\u001b[0m\u001b[0;34m\u001b[0m\u001b[0;34m\u001b[0m\u001b[0m\n\u001b[1;32m   1417\u001b[0m             \u001b[0mshuffle\u001b[0m\u001b[0;34m=\u001b[0m\u001b[0mshuffle\u001b[0m\u001b[0;34m,\u001b[0m\u001b[0;34m\u001b[0m\u001b[0;34m\u001b[0m\u001b[0m\n\u001b[0;32m-> 1418\u001b[0;31m             initial_epoch=initial_epoch)\n\u001b[0m\u001b[1;32m   1419\u001b[0m \u001b[0;34m\u001b[0m\u001b[0m\n\u001b[1;32m   1420\u001b[0m     \u001b[0;34m@\u001b[0m\u001b[0minterfaces\u001b[0m\u001b[0;34m.\u001b[0m\u001b[0mlegacy_generator_methods_support\u001b[0m\u001b[0;34m\u001b[0m\u001b[0;34m\u001b[0m\u001b[0m\n",
            "\u001b[0;32m/usr/local/lib/python3.6/dist-packages/keras/engine/training_generator.py\u001b[0m in \u001b[0;36mfit_generator\u001b[0;34m(model, generator, steps_per_epoch, epochs, verbose, callbacks, validation_data, validation_steps, class_weight, max_queue_size, workers, use_multiprocessing, shuffle, initial_epoch)\u001b[0m\n\u001b[1;32m    215\u001b[0m                 outs = model.train_on_batch(x, y,\n\u001b[1;32m    216\u001b[0m                                             \u001b[0msample_weight\u001b[0m\u001b[0;34m=\u001b[0m\u001b[0msample_weight\u001b[0m\u001b[0;34m,\u001b[0m\u001b[0;34m\u001b[0m\u001b[0;34m\u001b[0m\u001b[0m\n\u001b[0;32m--> 217\u001b[0;31m                                             class_weight=class_weight)\n\u001b[0m\u001b[1;32m    218\u001b[0m \u001b[0;34m\u001b[0m\u001b[0m\n\u001b[1;32m    219\u001b[0m                 \u001b[0mouts\u001b[0m \u001b[0;34m=\u001b[0m \u001b[0mto_list\u001b[0m\u001b[0;34m(\u001b[0m\u001b[0mouts\u001b[0m\u001b[0;34m)\u001b[0m\u001b[0;34m\u001b[0m\u001b[0;34m\u001b[0m\u001b[0m\n",
            "\u001b[0;32m/usr/local/lib/python3.6/dist-packages/keras/engine/training.py\u001b[0m in \u001b[0;36mtrain_on_batch\u001b[0;34m(self, x, y, sample_weight, class_weight)\u001b[0m\n\u001b[1;32m   1215\u001b[0m             \u001b[0mins\u001b[0m \u001b[0;34m=\u001b[0m \u001b[0mx\u001b[0m \u001b[0;34m+\u001b[0m \u001b[0my\u001b[0m \u001b[0;34m+\u001b[0m \u001b[0msample_weights\u001b[0m\u001b[0;34m\u001b[0m\u001b[0;34m\u001b[0m\u001b[0m\n\u001b[1;32m   1216\u001b[0m         \u001b[0mself\u001b[0m\u001b[0;34m.\u001b[0m\u001b[0m_make_train_function\u001b[0m\u001b[0;34m(\u001b[0m\u001b[0;34m)\u001b[0m\u001b[0;34m\u001b[0m\u001b[0;34m\u001b[0m\u001b[0m\n\u001b[0;32m-> 1217\u001b[0;31m         \u001b[0moutputs\u001b[0m \u001b[0;34m=\u001b[0m \u001b[0mself\u001b[0m\u001b[0;34m.\u001b[0m\u001b[0mtrain_function\u001b[0m\u001b[0;34m(\u001b[0m\u001b[0mins\u001b[0m\u001b[0;34m)\u001b[0m\u001b[0;34m\u001b[0m\u001b[0;34m\u001b[0m\u001b[0m\n\u001b[0m\u001b[1;32m   1218\u001b[0m         \u001b[0;32mreturn\u001b[0m \u001b[0munpack_singleton\u001b[0m\u001b[0;34m(\u001b[0m\u001b[0moutputs\u001b[0m\u001b[0;34m)\u001b[0m\u001b[0;34m\u001b[0m\u001b[0;34m\u001b[0m\u001b[0m\n\u001b[1;32m   1219\u001b[0m \u001b[0;34m\u001b[0m\u001b[0m\n",
            "\u001b[0;32m/usr/local/lib/python3.6/dist-packages/keras/backend/tensorflow_backend.py\u001b[0m in \u001b[0;36m__call__\u001b[0;34m(self, inputs)\u001b[0m\n\u001b[1;32m   2713\u001b[0m                 \u001b[0;32mreturn\u001b[0m \u001b[0mself\u001b[0m\u001b[0;34m.\u001b[0m\u001b[0m_legacy_call\u001b[0m\u001b[0;34m(\u001b[0m\u001b[0minputs\u001b[0m\u001b[0;34m)\u001b[0m\u001b[0;34m\u001b[0m\u001b[0;34m\u001b[0m\u001b[0m\n\u001b[1;32m   2714\u001b[0m \u001b[0;34m\u001b[0m\u001b[0m\n\u001b[0;32m-> 2715\u001b[0;31m             \u001b[0;32mreturn\u001b[0m \u001b[0mself\u001b[0m\u001b[0;34m.\u001b[0m\u001b[0m_call\u001b[0m\u001b[0;34m(\u001b[0m\u001b[0minputs\u001b[0m\u001b[0;34m)\u001b[0m\u001b[0;34m\u001b[0m\u001b[0;34m\u001b[0m\u001b[0m\n\u001b[0m\u001b[1;32m   2716\u001b[0m         \u001b[0;32melse\u001b[0m\u001b[0;34m:\u001b[0m\u001b[0;34m\u001b[0m\u001b[0;34m\u001b[0m\u001b[0m\n\u001b[1;32m   2717\u001b[0m             \u001b[0;32mif\u001b[0m \u001b[0mpy_any\u001b[0m\u001b[0;34m(\u001b[0m\u001b[0mis_tensor\u001b[0m\u001b[0;34m(\u001b[0m\u001b[0mx\u001b[0m\u001b[0;34m)\u001b[0m \u001b[0;32mfor\u001b[0m \u001b[0mx\u001b[0m \u001b[0;32min\u001b[0m \u001b[0minputs\u001b[0m\u001b[0;34m)\u001b[0m\u001b[0;34m:\u001b[0m\u001b[0;34m\u001b[0m\u001b[0;34m\u001b[0m\u001b[0m\n",
            "\u001b[0;32m/usr/local/lib/python3.6/dist-packages/keras/backend/tensorflow_backend.py\u001b[0m in \u001b[0;36m_call\u001b[0;34m(self, inputs)\u001b[0m\n\u001b[1;32m   2673\u001b[0m             \u001b[0mfetched\u001b[0m \u001b[0;34m=\u001b[0m \u001b[0mself\u001b[0m\u001b[0;34m.\u001b[0m\u001b[0m_callable_fn\u001b[0m\u001b[0;34m(\u001b[0m\u001b[0;34m*\u001b[0m\u001b[0marray_vals\u001b[0m\u001b[0;34m,\u001b[0m \u001b[0mrun_metadata\u001b[0m\u001b[0;34m=\u001b[0m\u001b[0mself\u001b[0m\u001b[0;34m.\u001b[0m\u001b[0mrun_metadata\u001b[0m\u001b[0;34m)\u001b[0m\u001b[0;34m\u001b[0m\u001b[0;34m\u001b[0m\u001b[0m\n\u001b[1;32m   2674\u001b[0m         \u001b[0;32melse\u001b[0m\u001b[0;34m:\u001b[0m\u001b[0;34m\u001b[0m\u001b[0;34m\u001b[0m\u001b[0m\n\u001b[0;32m-> 2675\u001b[0;31m             \u001b[0mfetched\u001b[0m \u001b[0;34m=\u001b[0m \u001b[0mself\u001b[0m\u001b[0;34m.\u001b[0m\u001b[0m_callable_fn\u001b[0m\u001b[0;34m(\u001b[0m\u001b[0;34m*\u001b[0m\u001b[0marray_vals\u001b[0m\u001b[0;34m)\u001b[0m\u001b[0;34m\u001b[0m\u001b[0;34m\u001b[0m\u001b[0m\n\u001b[0m\u001b[1;32m   2676\u001b[0m         \u001b[0;32mreturn\u001b[0m \u001b[0mfetched\u001b[0m\u001b[0;34m[\u001b[0m\u001b[0;34m:\u001b[0m\u001b[0mlen\u001b[0m\u001b[0;34m(\u001b[0m\u001b[0mself\u001b[0m\u001b[0;34m.\u001b[0m\u001b[0moutputs\u001b[0m\u001b[0;34m)\u001b[0m\u001b[0;34m]\u001b[0m\u001b[0;34m\u001b[0m\u001b[0;34m\u001b[0m\u001b[0m\n\u001b[1;32m   2677\u001b[0m \u001b[0;34m\u001b[0m\u001b[0m\n",
            "\u001b[0;32m/usr/local/lib/python3.6/dist-packages/tensorflow/python/client/session.py\u001b[0m in \u001b[0;36m__call__\u001b[0;34m(self, *args, **kwargs)\u001b[0m\n\u001b[1;32m   1456\u001b[0m         ret = tf_session.TF_SessionRunCallable(self._session._session,\n\u001b[1;32m   1457\u001b[0m                                                \u001b[0mself\u001b[0m\u001b[0;34m.\u001b[0m\u001b[0m_handle\u001b[0m\u001b[0;34m,\u001b[0m \u001b[0margs\u001b[0m\u001b[0;34m,\u001b[0m\u001b[0;34m\u001b[0m\u001b[0;34m\u001b[0m\u001b[0m\n\u001b[0;32m-> 1458\u001b[0;31m                                                run_metadata_ptr)\n\u001b[0m\u001b[1;32m   1459\u001b[0m         \u001b[0;32mif\u001b[0m \u001b[0mrun_metadata\u001b[0m\u001b[0;34m:\u001b[0m\u001b[0;34m\u001b[0m\u001b[0;34m\u001b[0m\u001b[0m\n\u001b[1;32m   1460\u001b[0m           \u001b[0mproto_data\u001b[0m \u001b[0;34m=\u001b[0m \u001b[0mtf_session\u001b[0m\u001b[0;34m.\u001b[0m\u001b[0mTF_GetBuffer\u001b[0m\u001b[0;34m(\u001b[0m\u001b[0mrun_metadata_ptr\u001b[0m\u001b[0;34m)\u001b[0m\u001b[0;34m\u001b[0m\u001b[0;34m\u001b[0m\u001b[0m\n",
            "\u001b[0;31mKeyboardInterrupt\u001b[0m: "
          ]
        }
      ]
    },
    {
      "cell_type": "code",
      "metadata": {
        "id": "hVP3G561NKYe",
        "colab_type": "code",
        "colab": {}
      },
      "source": [
        "base_model.trainable=True"
      ],
      "execution_count": 0,
      "outputs": []
    },
    {
      "cell_type": "code",
      "metadata": {
        "id": "WPtZ44ADPvWx",
        "colab_type": "code",
        "colab": {}
      },
      "source": [
        "set_trainable=False\n",
        "for layer in base_model.layers:\n",
        "  if layer.name=='block5_conve1':\n",
        "    set_trainable==True\n",
        "    if set_trainable:\n",
        "      layer.trainable=True\n",
        "    else:\n",
        "        layer.trainable=False"
      ],
      "execution_count": 0,
      "outputs": []
    },
    {
      "cell_type": "code",
      "metadata": {
        "id": "I9LCY4W0Qx3s",
        "colab_type": "code",
        "colab": {
          "base_uri": "https://localhost:8080/",
          "height": 689
        },
        "outputId": "3e453aea-30fd-4fda-8a50-56b47008820d"
      },
      "source": [
        "finetune_model.compile(SGD(lr=0.0001),loss='categorical_crossentropy',metrics=['acc'])\n",
        "history=finetune_model.fit_generator(train_generator, steps_per_epoch=100,epochs=20, \n",
        "                                       validation_data=validation_generator,\n",
        "                                       validation_steps=50)"
      ],
      "execution_count": 51,
      "outputs": [
        {
          "output_type": "stream",
          "text": [
            "Epoch 1/20\n",
            "100/100 [==============================] - 40s 402ms/step - loss: 0.2295 - acc: 0.8998 - val_loss: 0.6998 - val_acc: 0.7953\n",
            "Epoch 2/20\n",
            "100/100 [==============================] - 37s 368ms/step - loss: 0.2309 - acc: 0.9026 - val_loss: 0.7911 - val_acc: 0.8124\n",
            "Epoch 3/20\n",
            "100/100 [==============================] - 37s 369ms/step - loss: 0.2229 - acc: 0.9024 - val_loss: 0.8319 - val_acc: 0.7834\n",
            "Epoch 4/20\n",
            "100/100 [==============================] - 37s 367ms/step - loss: 0.2381 - acc: 0.8956 - val_loss: 0.8584 - val_acc: 0.7668\n",
            "Epoch 5/20\n",
            "100/100 [==============================] - 37s 366ms/step - loss: 0.2264 - acc: 0.9063 - val_loss: 0.8642 - val_acc: 0.7716\n",
            "Epoch 6/20\n",
            "100/100 [==============================] - 37s 367ms/step - loss: 0.2290 - acc: 0.9066 - val_loss: 0.8875 - val_acc: 0.7679\n",
            "Epoch 7/20\n",
            "100/100 [==============================] - 37s 367ms/step - loss: 0.2427 - acc: 0.9030 - val_loss: 0.8624 - val_acc: 0.7619\n",
            "Epoch 8/20\n",
            "100/100 [==============================] - 37s 367ms/step - loss: 0.2228 - acc: 0.9091 - val_loss: 0.8909 - val_acc: 0.7397\n",
            "Epoch 9/20\n",
            "100/100 [==============================] - 37s 367ms/step - loss: 0.2520 - acc: 0.8978 - val_loss: 0.8907 - val_acc: 0.7435\n",
            "Epoch 10/20\n",
            "100/100 [==============================] - 37s 366ms/step - loss: 0.2075 - acc: 0.9171 - val_loss: 0.8607 - val_acc: 0.7451\n",
            "Epoch 11/20\n",
            "100/100 [==============================] - 37s 368ms/step - loss: 0.2269 - acc: 0.9008 - val_loss: 0.8740 - val_acc: 0.7468\n",
            "Epoch 12/20\n",
            "100/100 [==============================] - 37s 368ms/step - loss: 0.2113 - acc: 0.9101 - val_loss: 0.8984 - val_acc: 0.7419\n",
            "Epoch 13/20\n",
            "100/100 [==============================] - 37s 371ms/step - loss: 0.2308 - acc: 0.8954 - val_loss: 0.8864 - val_acc: 0.7403\n",
            "Epoch 14/20\n",
            "100/100 [==============================] - 37s 367ms/step - loss: 0.2232 - acc: 0.8990 - val_loss: 0.8841 - val_acc: 0.7440\n",
            "Epoch 15/20\n",
            "100/100 [==============================] - 37s 371ms/step - loss: 0.2058 - acc: 0.9170 - val_loss: 0.8706 - val_acc: 0.7435\n",
            "Epoch 16/20\n",
            "100/100 [==============================] - 37s 369ms/step - loss: 0.2134 - acc: 0.9159 - val_loss: 0.8856 - val_acc: 0.7408\n",
            "Epoch 17/20\n",
            "100/100 [==============================] - 37s 371ms/step - loss: 0.2062 - acc: 0.9201 - val_loss: 0.8786 - val_acc: 0.7457\n",
            "Epoch 18/20\n",
            "100/100 [==============================] - 37s 372ms/step - loss: 0.2195 - acc: 0.9083 - val_loss: 0.8930 - val_acc: 0.7419\n",
            "Epoch 19/20\n",
            "100/100 [==============================] - 37s 371ms/step - loss: 0.2400 - acc: 0.9013 - val_loss: 0.8915 - val_acc: 0.7457\n",
            "Epoch 20/20\n",
            "100/100 [==============================] - 37s 369ms/step - loss: 0.2319 - acc: 0.9003 - val_loss: 0.8930 - val_acc: 0.7440\n"
          ],
          "name": "stdout"
        }
      ]
    },
    {
      "cell_type": "code",
      "metadata": {
        "id": "tN2E6eSn9j-w",
        "colab_type": "code",
        "colab": {}
      },
      "source": [
        "import matplotlib.pyplot as plt\n"
      ],
      "execution_count": 0,
      "outputs": []
    },
    {
      "cell_type": "code",
      "metadata": {
        "id": "jWypXPWc9m3J",
        "colab_type": "code",
        "outputId": "37cdccc6-b9da-4886-d156-9bba792f9c39",
        "colab": {
          "base_uri": "https://localhost:8080/",
          "height": 298
        }
      },
      "source": [
        "acc=history.history['acc']\n",
        "#val_acc=history.history['val_acc']\n",
        "loss=history.history['loss']\n",
        "#val_loss=history.history['val_loss']\n",
        "epoch=range(1,len(acc)+1)\n",
        "plt.plot(epoch,acc,'bo',label='training acc')\n",
        "#plt.plot(epoch,val_acc,'b',label='validation acc')\n",
        "plt.title('training and val acc')\n",
        "plt.legend()\n",
        "plt.figure()\n",
        "plt.show()"
      ],
      "execution_count": 0,
      "outputs": [
        {
          "output_type": "display_data",
          "data": {
            "image/png": "[encoded data removed]",
            "text/plain": [
              "<Figure size 432x288 with 1 Axes>"
            ]
          },
          "metadata": {
            "tags": []
          }
        },
        {
          "output_type": "display_data",
          "data": {
            "text/plain": [
              "<Figure size 432x288 with 0 Axes>"
            ]
          },
          "metadata": {
            "tags": []
          }
        }
      ]
    }
  ]
}